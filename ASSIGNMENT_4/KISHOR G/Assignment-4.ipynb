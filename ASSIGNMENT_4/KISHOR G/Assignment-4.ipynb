{
 "cells": [
  {
   "cell_type": "markdown",
   "id": "ae190aa0",
   "metadata": {},
   "source": [
    "# Download the Dataset"
   ]
  },
  {
   "cell_type": "markdown",
   "id": "a049ec94",
   "metadata": {},
   "source": [
    "https://www.kaggle.com/code/kredy10/simple-lstm-for-text-classification/data"
   ]
  },
  {
   "cell_type": "markdown",
   "id": "cb472059",
   "metadata": {},
   "source": [
    "# Import required library"
   ]
  },
  {
   "cell_type": "code",
   "execution_count": 1,
   "id": "99305437",
   "metadata": {},
   "outputs": [],
   "source": [
    "from keras_preprocessing.sequence import pad_sequences\n",
    "import pandas as pd\n",
    "import numpy as np\n",
    "import re\n",
    "import collections\n",
    "import contractions\n",
    "import seaborn as sns\n",
    "import matplotlib.pyplot as plt\n",
    "plt.style.use('dark_background')\n",
    "from statistics import mode\n",
    "import nltk\n",
    "from nltk.stem import WordNetLemmatizer\n",
    "from nltk.corpus import stopwords\n",
    "import warnings\n",
    "warnings.simplefilter(action='ignore', category=Warning)\n",
    "import keras\n",
    "from keras.layers import Dense, Embedding, LSTM, Dropout\n",
    "from keras.models import Sequential, load_model\n",
    "from keras.preprocessing.text import Tokenizer"
   ]
  },
  {
   "cell_type": "markdown",
   "id": "547de33b",
   "metadata": {},
   "source": [
    "#  Read dataset and do pre-processing "
   ]
  },
  {
   "cell_type": "code",
   "execution_count": 2,
   "id": "999d253c",
   "metadata": {},
   "outputs": [
    {
     "data": {
      "text/html": [
       "<div>\n",
       "<style scoped>\n",
       "    .dataframe tbody tr th:only-of-type {\n",
       "        vertical-align: middle;\n",
       "    }\n",
       "\n",
       "    .dataframe tbody tr th {\n",
       "        vertical-align: top;\n",
       "    }\n",
       "\n",
       "    .dataframe thead th {\n",
       "        text-align: right;\n",
       "    }\n",
       "</style>\n",
       "<table border=\"1\" class=\"dataframe\">\n",
       "  <thead>\n",
       "    <tr style=\"text-align: right;\">\n",
       "      <th></th>\n",
       "      <th>v1</th>\n",
       "      <th>v2</th>\n",
       "      <th>Unnamed: 2</th>\n",
       "      <th>Unnamed: 3</th>\n",
       "      <th>Unnamed: 4</th>\n",
       "    </tr>\n",
       "  </thead>\n",
       "  <tbody>\n",
       "    <tr>\n",
       "      <th>0</th>\n",
       "      <td>ham</td>\n",
       "      <td>Go until jurong point, crazy.. Available only ...</td>\n",
       "      <td>NaN</td>\n",
       "      <td>NaN</td>\n",
       "      <td>NaN</td>\n",
       "    </tr>\n",
       "    <tr>\n",
       "      <th>1</th>\n",
       "      <td>ham</td>\n",
       "      <td>Ok lar... Joking wif u oni...</td>\n",
       "      <td>NaN</td>\n",
       "      <td>NaN</td>\n",
       "      <td>NaN</td>\n",
       "    </tr>\n",
       "    <tr>\n",
       "      <th>2</th>\n",
       "      <td>spam</td>\n",
       "      <td>Free entry in 2 a wkly comp to win FA Cup fina...</td>\n",
       "      <td>NaN</td>\n",
       "      <td>NaN</td>\n",
       "      <td>NaN</td>\n",
       "    </tr>\n",
       "    <tr>\n",
       "      <th>3</th>\n",
       "      <td>ham</td>\n",
       "      <td>U dun say so early hor... U c already then say...</td>\n",
       "      <td>NaN</td>\n",
       "      <td>NaN</td>\n",
       "      <td>NaN</td>\n",
       "    </tr>\n",
       "    <tr>\n",
       "      <th>4</th>\n",
       "      <td>ham</td>\n",
       "      <td>Nah I don't think he goes to usf, he lives aro...</td>\n",
       "      <td>NaN</td>\n",
       "      <td>NaN</td>\n",
       "      <td>NaN</td>\n",
       "    </tr>\n",
       "  </tbody>\n",
       "</table>\n",
       "</div>"
      ],
      "text/plain": [
       "     v1                                                 v2 Unnamed: 2  \\\n",
       "0   ham  Go until jurong point, crazy.. Available only ...        NaN   \n",
       "1   ham                      Ok lar... Joking wif u oni...        NaN   \n",
       "2  spam  Free entry in 2 a wkly comp to win FA Cup fina...        NaN   \n",
       "3   ham  U dun say so early hor... U c already then say...        NaN   \n",
       "4   ham  Nah I don't think he goes to usf, he lives aro...        NaN   \n",
       "\n",
       "  Unnamed: 3 Unnamed: 4  \n",
       "0        NaN        NaN  \n",
       "1        NaN        NaN  \n",
       "2        NaN        NaN  \n",
       "3        NaN        NaN  \n",
       "4        NaN        NaN  "
      ]
     },
     "execution_count": 2,
     "metadata": {},
     "output_type": "execute_result"
    }
   ],
   "source": [
    "df = pd.read_csv(\"spam.csv\", encoding='latin-1')\n",
    "df.head()"
   ]
  },
  {
   "cell_type": "code",
   "execution_count": 3,
   "id": "613413d3",
   "metadata": {},
   "outputs": [
    {
     "data": {
      "text/plain": [
       "(5572, 5)"
      ]
     },
     "execution_count": 3,
     "metadata": {},
     "output_type": "execute_result"
    }
   ],
   "source": [
    "df.shape"
   ]
  },
  {
   "cell_type": "code",
   "execution_count": 4,
   "id": "7783abe8",
   "metadata": {},
   "outputs": [],
   "source": [
    "df.drop([\"Unnamed: 2\", \"Unnamed: 3\", \"Unnamed: 4\"], axis=1, inplace=True)"
   ]
  },
  {
   "cell_type": "code",
   "execution_count": 5,
   "id": "30a4a3e7",
   "metadata": {},
   "outputs": [
    {
     "data": {
      "text/html": [
       "<div>\n",
       "<style scoped>\n",
       "    .dataframe tbody tr th:only-of-type {\n",
       "        vertical-align: middle;\n",
       "    }\n",
       "\n",
       "    .dataframe tbody tr th {\n",
       "        vertical-align: top;\n",
       "    }\n",
       "\n",
       "    .dataframe thead th {\n",
       "        text-align: right;\n",
       "    }\n",
       "</style>\n",
       "<table border=\"1\" class=\"dataframe\">\n",
       "  <thead>\n",
       "    <tr style=\"text-align: right;\">\n",
       "      <th></th>\n",
       "      <th>Category</th>\n",
       "      <th>Tweet</th>\n",
       "    </tr>\n",
       "  </thead>\n",
       "  <tbody>\n",
       "    <tr>\n",
       "      <th>0</th>\n",
       "      <td>ham</td>\n",
       "      <td>Go until jurong point, crazy.. Available only ...</td>\n",
       "    </tr>\n",
       "    <tr>\n",
       "      <th>1</th>\n",
       "      <td>ham</td>\n",
       "      <td>Ok lar... Joking wif u oni...</td>\n",
       "    </tr>\n",
       "    <tr>\n",
       "      <th>2</th>\n",
       "      <td>spam</td>\n",
       "      <td>Free entry in 2 a wkly comp to win FA Cup fina...</td>\n",
       "    </tr>\n",
       "    <tr>\n",
       "      <th>3</th>\n",
       "      <td>ham</td>\n",
       "      <td>U dun say so early hor... U c already then say...</td>\n",
       "    </tr>\n",
       "    <tr>\n",
       "      <th>4</th>\n",
       "      <td>ham</td>\n",
       "      <td>Nah I don't think he goes to usf, he lives aro...</td>\n",
       "    </tr>\n",
       "  </tbody>\n",
       "</table>\n",
       "</div>"
      ],
      "text/plain": [
       "  Category                                              Tweet\n",
       "0      ham  Go until jurong point, crazy.. Available only ...\n",
       "1      ham                      Ok lar... Joking wif u oni...\n",
       "2     spam  Free entry in 2 a wkly comp to win FA Cup fina...\n",
       "3      ham  U dun say so early hor... U c already then say...\n",
       "4      ham  Nah I don't think he goes to usf, he lives aro..."
      ]
     },
     "execution_count": 5,
     "metadata": {},
     "output_type": "execute_result"
    }
   ],
   "source": [
    "df.columns = [\"Category\",\"Tweet\"]\n",
    "df.head()"
   ]
  },
  {
   "cell_type": "code",
   "execution_count": 6,
   "id": "c379050c",
   "metadata": {},
   "outputs": [
    {
     "data": {
      "text/plain": [
       "Category    0\n",
       "Tweet       0\n",
       "dtype: int64"
      ]
     },
     "execution_count": 6,
     "metadata": {},
     "output_type": "execute_result"
    }
   ],
   "source": [
    "df.isnull().sum()"
   ]
  },
  {
   "cell_type": "code",
   "execution_count": 7,
   "id": "7b84c1ce",
   "metadata": {},
   "outputs": [
    {
     "data": {
      "text/plain": [
       "<AxesSubplot:xlabel='Category', ylabel='count'>"
      ]
     },
     "execution_count": 7,
     "metadata": {},
     "output_type": "execute_result"
    },
    {
     "data": {
      "image/png": "[encoded data removed]",
      "text/plain": [
       "<Figure size 432x288 with 1 Axes>"
      ]
     },
     "metadata": {},
     "output_type": "display_data"
    }
   ],
   "source": [
    "sns.countplot(x=df['Category'])"
   ]
  },
  {
   "cell_type": "code",
   "execution_count": 8,
   "id": "876b5a38",
   "metadata": {},
   "outputs": [],
   "source": [
    "from sklearn.preprocessing import LabelEncoder\n",
    "en = LabelEncoder()\n",
    "y = en.fit_transform(df[\"Category\"])"
   ]
  },
  {
   "cell_type": "code",
   "execution_count": 9,
   "id": "c7e35ecd",
   "metadata": {},
   "outputs": [],
   "source": [
    "tokenizer = Tokenizer() \n",
    "tokenizer.fit_on_texts(df['Tweet'])\n",
    "text_to_sequence = tokenizer.texts_to_sequences(df['Tweet'])"
   ]
  },
  {
   "cell_type": "code",
   "execution_count": 10,
   "id": "fb92a25d",
   "metadata": {},
   "outputs": [],
   "source": [
    "max_length_sequence = max([len(i) for i in text_to_sequence])\n",
    "padded_sms_sequence = pad_sequences(text_to_sequence, maxlen=max_length_sequence, \n",
    "                                    padding = \"pre\") \n",
    "TOT_SIZE = len(tokenizer.word_index)+1"
   ]
  },
  {
   "cell_type": "markdown",
   "id": "03b9eaa7",
   "metadata": {},
   "source": [
    "# Create Model"
   ]
  },
  {
   "cell_type": "code",
   "execution_count": 12,
   "id": "58a06a3b",
   "metadata": {},
   "outputs": [],
   "source": [
    "lstm_model = Sequential()"
   ]
  },
  {
   "cell_type": "markdown",
   "id": "15afe4c8",
   "metadata": {},
   "source": [
    "# Add Layers (LSTM, Dense-(Hidden Layers), Output)"
   ]
  },
  {
   "cell_type": "code",
   "execution_count": 13,
   "id": "0e6bbd14",
   "metadata": {},
   "outputs": [],
   "source": [
    "lstm_model.add(Embedding(TOT_SIZE, 32, input_length=max_length_sequence))\n",
    "lstm_model.add(LSTM(100))\n",
    "lstm_model.add(Dropout(0.4))\n",
    "lstm_model.add(Dense(20, activation=\"relu\"))\n",
    "lstm_model.add(Dropout(0.3))\n",
    "lstm_model.add(Dense(1, activation = \"sigmoid\"))"
   ]
  },
  {
   "cell_type": "code",
   "execution_count": 15,
   "id": "9fbce0c7",
   "metadata": {},
   "outputs": [
    {
     "name": "stdout",
     "output_type": "stream",
     "text": [
      "Model: \"sequential\"\n",
      "_________________________________________________________________\n",
      " Layer (type)                Output Shape              Param #   \n",
      "=================================================================\n",
      " embedding (Embedding)       (None, 189, 32)           285472    \n",
      "                                                                 \n",
      " lstm (LSTM)                 (None, 100)               53200     \n",
      "                                                                 \n",
      " dropout (Dropout)           (None, 100)               0         \n",
      "                                                                 \n",
      " dense (Dense)               (None, 20)                2020      \n",
      "                                                                 \n",
      " dropout_1 (Dropout)         (None, 20)                0         \n",
      "                                                                 \n",
      " dense_1 (Dense)             (None, 1)                 21        \n",
      "                                                                 \n",
      "=================================================================\n",
      "Total params: 340,713\n",
      "Trainable params: 340,713\n",
      "Non-trainable params: 0\n",
      "_________________________________________________________________\n"
     ]
    }
   ],
   "source": [
    "lstm_model.summary()"
   ]
  },
  {
   "cell_type": "markdown",
   "id": "6897e0c6",
   "metadata": {},
   "source": [
    "#  Compile the Model"
   ]
  },
  {
   "cell_type": "code",
   "execution_count": 16,
   "id": "2a40d5d7",
   "metadata": {},
   "outputs": [],
   "source": [
    "lstm_model.compile(loss = \"binary_crossentropy\", optimizer = \"adam\", metrics = [\"accuracy\"])"
   ]
  },
  {
   "cell_type": "markdown",
   "id": "27ea6641",
   "metadata": {},
   "source": [
    "# Fit the Model\n"
   ]
  },
  {
   "cell_type": "code",
   "execution_count": 17,
   "id": "0a62bb9b",
   "metadata": {},
   "outputs": [
    {
     "name": "stdout",
     "output_type": "stream",
     "text": [
      "Epoch 1/10\n",
      "279/279 [==============================] - 40s 133ms/step - loss: 0.1688 - accuracy: 0.9522 - val_loss: 0.0606 - val_accuracy: 0.9857\n",
      "Epoch 2/10\n",
      "279/279 [==============================] - 37s 131ms/step - loss: 0.0326 - accuracy: 0.9917 - val_loss: 0.0590 - val_accuracy: 0.9865\n",
      "Epoch 3/10\n",
      "279/279 [==============================] - 37s 132ms/step - loss: 0.0108 - accuracy: 0.9975 - val_loss: 0.0480 - val_accuracy: 0.9874\n",
      "Epoch 4/10\n",
      "279/279 [==============================] - 37s 132ms/step - loss: 0.0068 - accuracy: 0.9991 - val_loss: 0.0970 - val_accuracy: 0.9776\n",
      "Epoch 5/10\n",
      "279/279 [==============================] - 37s 131ms/step - loss: 0.0076 - accuracy: 0.9978 - val_loss: 0.0762 - val_accuracy: 0.9803\n",
      "Epoch 6/10\n",
      "279/279 [==============================] - 37s 132ms/step - loss: 0.0055 - accuracy: 0.9993 - val_loss: 0.0489 - val_accuracy: 0.9874\n",
      "Epoch 7/10\n",
      "279/279 [==============================] - 37s 131ms/step - loss: 0.0018 - accuracy: 1.0000 - val_loss: 0.0634 - val_accuracy: 0.9848\n",
      "Epoch 8/10\n",
      "279/279 [==============================] - 37s 132ms/step - loss: 2.8042e-04 - accuracy: 1.0000 - val_loss: 0.0760 - val_accuracy: 0.9901\n",
      "Epoch 9/10\n",
      "279/279 [==============================] - 39s 140ms/step - loss: 3.0002e-04 - accuracy: 1.0000 - val_loss: 0.0797 - val_accuracy: 0.9883\n",
      "Epoch 10/10\n",
      "279/279 [==============================] - 39s 138ms/step - loss: 1.4242e-04 - accuracy: 1.0000 - val_loss: 0.0906 - val_accuracy: 0.9892\n"
     ]
    },
    {
     "data": {
      "text/plain": [
       "<keras.callbacks.History at 0x1beadc4a380>"
      ]
     },
     "execution_count": 17,
     "metadata": {},
     "output_type": "execute_result"
    }
   ],
   "source": [
    "lstm_model.fit(padded_sms_sequence, y, epochs = 10, validation_split=0.2, batch_size=16)"
   ]
  },
  {
   "cell_type": "markdown",
   "id": "4cc511b6",
   "metadata": {},
   "source": [
    "# Save The Model"
   ]
  },
  {
   "cell_type": "code",
   "execution_count": 18,
   "id": "fa839688",
   "metadata": {},
   "outputs": [],
   "source": [
    "lstm_model.save(r'D:\\IBM Project\\spam_classifier.h5')"
   ]
  },
  {
   "cell_type": "markdown",
   "id": "bd896418",
   "metadata": {},
   "source": [
    "# Test The Model"
   ]
  },
  {
   "cell_type": "code",
   "execution_count": 20,
   "id": "6804d4e6",
   "metadata": {},
   "outputs": [],
   "source": [
    "model=load_model(r'D:\\IBM Project\\spam_classifier.h5')"
   ]
  },
  {
   "cell_type": "code",
   "execution_count": 22,
   "id": "4e6e0b37",
   "metadata": {},
   "outputs": [],
   "source": [
    "text='Urgent UR awarded a complimentary trip to EuroDisinc Trav, Aco&Entry41 Or å£1000. To claim txt DIS to 87121 18+6*å£1.50(moreFrmMob. ShrAcomOrSglSuplt)10, LS1 3AJ'\n",
    "text = tokenizer.texts_to_sequences(text)\n",
    "max_length = max([len(i) for i in text])\n",
    "padded_sms = pad_sequences(text, maxlen=max_length, \n",
    "                                    padding = \"pre\")\n"
   ]
  },
  {
   "cell_type": "code",
   "execution_count": 26,
   "id": "a324cd99",
   "metadata": {},
   "outputs": [
    {
     "name": "stdout",
     "output_type": "stream",
     "text": [
      "6/6 [==============================] - 0s 4ms/step\n",
      "Spam\n"
     ]
    }
   ],
   "source": [
    "prediction = np.squeeze(model.predict(padded_sms))\n",
    "classes_x = (prediction > 0.5).astype(\"int32\")\n",
    "\n",
    "mode_val=mode(classes_x)\n",
    "if(mode_val==1):\n",
    "      print(\"Ham\")\n",
    "else:\n",
    "      print(\"Spam\")"
   ]
  },
  {
   "cell_type": "code",
   "execution_count": null,
   "id": "113e028e",
   "metadata": {},
   "outputs": [],
   "source": []
  }
 ],
 "metadata": {
  "kernelspec": {
   "display_name": "Python 3 (ipykernel)",
   "language": "python",
   "name": "python3"
  },
  "language_info": {
   "codemirror_mode": {
    "name": "ipython",
    "version": 3
   },
   "file_extension": ".py",
   "mimetype": "text/x-python",
   "name": "python",
   "nbconvert_exporter": "python",
   "pygments_lexer": "ipython3",
   "version": "3.10.4"
  }
 },
 "nbformat": 4,
 "nbformat_minor": 5
}
